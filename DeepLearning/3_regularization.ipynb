{
 "cells": [
  {
   "cell_type": "markdown",
   "metadata": {
    "colab_type": "text",
    "id": "kR-4eNdK6lYS"
   },
   "source": [
    "Deep Learning\n",
    "=============\n",
    "\n",
    "Assignment 3\n",
    "------------\n",
    "\n",
    "Previously in `2_fullyconnected.ipynb`, you trained a logistic regression and a neural network model.\n",
    "\n",
    "The goal of this assignment is to explore regularization techniques."
   ]
  },
  {
   "cell_type": "code",
   "execution_count": 1,
   "metadata": {
    "cellView": "both",
    "colab": {
     "autoexec": {
      "startup": false,
      "wait_interval": 0
     }
    },
    "colab_type": "code",
    "collapsed": true,
    "id": "JLpLa8Jt7Vu4"
   },
   "outputs": [],
   "source": [
    "# These are all the modules we'll be using later. Make sure you can import them\n",
    "# before proceeding further.\n",
    "from __future__ import print_function\n",
    "import numpy as np\n",
    "import tensorflow as tf\n",
    "from six.moves import cPickle as pickle\n",
    "import time"
   ]
  },
  {
   "cell_type": "markdown",
   "metadata": {
    "colab_type": "text",
    "id": "1HrCK6e17WzV"
   },
   "source": [
    "First reload the data we generated in _notmist.ipynb_."
   ]
  },
  {
   "cell_type": "code",
   "execution_count": 2,
   "metadata": {
    "cellView": "both",
    "colab": {
     "autoexec": {
      "startup": false,
      "wait_interval": 0
     },
     "output_extras": [
      {
       "item_id": 1
      }
     ]
    },
    "colab_type": "code",
    "collapsed": false,
    "executionInfo": {
     "elapsed": 11777,
     "status": "ok",
     "timestamp": 1449849322348,
     "user": {
      "color": "",
      "displayName": "",
      "isAnonymous": false,
      "isMe": true,
      "permissionId": "",
      "photoUrl": "",
      "sessionId": "0",
      "userId": ""
     },
     "user_tz": 480
    },
    "id": "y3-cj1bpmuxc",
    "outputId": "e03576f1-ebbe-4838-c388-f1777bcc9873"
   },
   "outputs": [
    {
     "name": "stdout",
     "output_type": "stream",
     "text": [
      "Training set (200000, 28, 28) (200000,)\n",
      "Validation set (10000, 28, 28) (10000,)\n",
      "Test set (10000, 28, 28) (10000,)\n"
     ]
    }
   ],
   "source": [
    "pickle_file = 'notMNIST.pickle'\n",
    "\n",
    "with open(pickle_file, 'rb') as f:\n",
    "  save = pickle.load(f)\n",
    "  train_dataset = save['train_dataset']\n",
    "  train_labels = save['train_labels']\n",
    "  valid_dataset = save['valid_dataset']\n",
    "  valid_labels = save['valid_labels']\n",
    "  test_dataset = save['test_dataset']\n",
    "  test_labels = save['test_labels']\n",
    "  del save  # hint to help gc free up memory\n",
    "  print('Training set', train_dataset.shape, train_labels.shape)\n",
    "  print('Validation set', valid_dataset.shape, valid_labels.shape)\n",
    "  print('Test set', test_dataset.shape, test_labels.shape)"
   ]
  },
  {
   "cell_type": "markdown",
   "metadata": {
    "colab_type": "text",
    "id": "L7aHrm6nGDMB"
   },
   "source": [
    "Reformat into a shape that's more adapted to the models we're going to train:\n",
    "- data as a flat matrix,\n",
    "- labels as float 1-hot encodings."
   ]
  },
  {
   "cell_type": "code",
   "execution_count": 3,
   "metadata": {
    "cellView": "both",
    "colab": {
     "autoexec": {
      "startup": false,
      "wait_interval": 0
     },
     "output_extras": [
      {
       "item_id": 1
      }
     ]
    },
    "colab_type": "code",
    "collapsed": false,
    "executionInfo": {
     "elapsed": 11728,
     "status": "ok",
     "timestamp": 1449849322356,
     "user": {
      "color": "",
      "displayName": "",
      "isAnonymous": false,
      "isMe": true,
      "permissionId": "",
      "photoUrl": "",
      "sessionId": "0",
      "userId": ""
     },
     "user_tz": 480
    },
    "id": "IRSyYiIIGIzS",
    "outputId": "3f8996ee-3574-4f44-c953-5c8a04636582"
   },
   "outputs": [
    {
     "name": "stdout",
     "output_type": "stream",
     "text": [
      "Training set (200000, 784) (200000, 10)\n",
      "Validation set (10000, 784) (10000, 10)\n",
      "Test set (10000, 784) (10000, 10)\n"
     ]
    }
   ],
   "source": [
    "image_size = 28\n",
    "num_labels = 10\n",
    "\n",
    "def reformat(dataset, labels):\n",
    "  dataset = dataset.reshape((-1, image_size * image_size)).astype(np.float32)\n",
    "  # Map 2 to [0.0, 1.0, 0.0 ...], 3 to [0.0, 0.0, 1.0 ...]\n",
    "  labels = (np.arange(num_labels) == labels[:,None]).astype(np.float32)\n",
    "  return dataset, labels\n",
    "train_dataset, train_labels = reformat(train_dataset, train_labels)\n",
    "valid_dataset, valid_labels = reformat(valid_dataset, valid_labels)\n",
    "test_dataset, test_labels = reformat(test_dataset, test_labels)\n",
    "print('Training set', train_dataset.shape, train_labels.shape)\n",
    "print('Validation set', valid_dataset.shape, valid_labels.shape)\n",
    "print('Test set', test_dataset.shape, test_labels.shape)"
   ]
  },
  {
   "cell_type": "code",
   "execution_count": 4,
   "metadata": {
    "cellView": "both",
    "colab": {
     "autoexec": {
      "startup": false,
      "wait_interval": 0
     }
    },
    "colab_type": "code",
    "collapsed": true,
    "id": "RajPLaL_ZW6w"
   },
   "outputs": [],
   "source": [
    "def accuracy(predictions, labels):\n",
    "  return (100.0 * np.sum(np.argmax(predictions, 1) == np.argmax(labels, 1))\n",
    "          / predictions.shape[0])"
   ]
  },
  {
   "cell_type": "markdown",
   "metadata": {
    "colab_type": "text",
    "id": "sgLbUAQ1CW-1"
   },
   "source": [
    "---\n",
    "Problem 1\n",
    "---------\n",
    "\n",
    "Introduce and tune L2 regularization for both logistic and neural network models. Remember that L2 amounts to adding a penalty on the norm of the weights to the loss. In TensorFlow, you can compute the L2 loss for a tensor `t` using `nn.l2_loss(t)`. The right amount of regularization should improve your validation / test accuracy.\n",
    "\n",
    "---"
   ]
  },
  {
   "cell_type": "code",
   "execution_count": 5,
   "metadata": {
    "collapsed": true
   },
   "outputs": [],
   "source": [
    "# Let's create a function to randomize the data set\n",
    "def randomize(dataset, labels):\n",
    "    permutation = np.random.permutation(labels.shape[0])\n",
    "    shuffled_dataset = dataset[permutation,:]\n",
    "    shuffled_labels = labels[permutation]\n",
    "    return shuffled_dataset, shuffled_labels"
   ]
  },
  {
   "cell_type": "markdown",
   "metadata": {},
   "source": [
    "### SGD"
   ]
  },
  {
   "cell_type": "code",
   "execution_count": null,
   "metadata": {
    "collapsed": false,
    "scrolled": true
   },
   "outputs": [],
   "source": [
    "## CONSTANT ##\n",
    "learning_rate = 0.3 # The initial learning rate\n",
    "batch_size = 128 # Setup the batch size\n",
    "num_steps = 100001 # Setup the number of steps we are going to run\n",
    "beta = 1e-3 # Regularization constant\n",
    "\n",
    "\n",
    "# Initialize the graph\n",
    "graph = tf.Graph()\n",
    "with graph.as_default():\n",
    "    # Input data. For the training data, we use a placeholder that will be fed\n",
    "    # at run time with a training minibatch.\n",
    "    tf_train_dataset = tf.placeholder(tf.float32, shape=(batch_size, image_size * image_size))\n",
    "    tf_train_labels = tf.placeholder(tf.float32, shape=(batch_size, num_labels))\n",
    "    tf_valid_dataset = tf.constant(valid_dataset)\n",
    "    tf_test_dataset = tf.constant(test_dataset)\n",
    "  \n",
    "    # Variables.\n",
    "    weights = tf.Variable(tf.truncated_normal([image_size * image_size, num_labels]))\n",
    "    biases = tf.Variable(tf.zeros([num_labels]))\n",
    "  \n",
    "    # Training computation.\n",
    "    logits = tf.matmul(tf_train_dataset, weights) + biases\n",
    "    loss = tf.reduce_mean(tf.nn.softmax_cross_entropy_with_logits(logits, tf_train_labels))\n",
    "    \n",
    "    # L2 regularization\n",
    "    regularizer = beta * (tf.nn.l2_loss(weights) + tf.nn.l2_loss(biases))\n",
    "    #regularizer = 0\n",
    "    \n",
    "    # Add the regularization to the loss\n",
    "    loss += regularizer\n",
    "  \n",
    "    # Optimizer.\n",
    "    optimizer = tf.train.GradientDescentOptimizer(learning_rate).minimize(loss)\n",
    "  \n",
    "    # Predictions for the training, validation, and test data.\n",
    "    train_prediction = tf.nn.softmax(logits)\n",
    "    valid_prediction = tf.nn.softmax(tf.matmul(tf_valid_dataset, weights) + biases)\n",
    "    test_prediction = tf.nn.softmax(tf.matmul(tf_test_dataset, weights) + biases)\n",
    "\n",
    "# Save the initial time\n",
    "start_time = time.clock()\n",
    "\n",
    "# Print the table format\n",
    "print('{:^20}'.format('Minibatch'),end=\"\")\n",
    "print('{:^20}'.format('Time'),'{:^20}'.format('Loss'),end=\"\")\n",
    "print('{:^20}'.format('Train accuracy'),'{:^20}'.format('Validation accuracy'))\n",
    "\n",
    "# Initialize the averages\n",
    "batch_avg_loss = 0.0\n",
    "batch_avg_acc = 0.0\n",
    "\n",
    "# Start the graph session\n",
    "with tf.Session(graph=graph) as session:\n",
    "    tf.initialize_all_variables().run()\n",
    "    for step in range(num_steps):\n",
    "        # Pick an offset within the training data, which has been randomized.\n",
    "        offset = (step * batch_size) % (train_labels.shape[0] - batch_size)\n",
    "        \n",
    "        # Re-randomize the data, whenever we fully utilize the entire data set\n",
    "        if offset < batch_size:\n",
    "            train_dataset, train_labels = randomize(train_dataset, train_labels)\n",
    "        \n",
    "        # Generate a minibatch.\n",
    "        batch_data = train_dataset[offset:(offset + batch_size), :]\n",
    "        batch_labels = train_labels[offset:(offset + batch_size), :]\n",
    "        \n",
    "        # Prepare a dictionary telling the session where to feed the minibatch.\n",
    "        # The key of the dictionary is the placeholder node of the graph to be fed,\n",
    "        # and the value is the numpy array to feed to it.\n",
    "        feed_dict = {tf_train_dataset : batch_data, tf_train_labels : batch_labels}\n",
    "        \n",
    "        # Run the session\n",
    "        _, l, predictions = session.run([optimizer, loss, train_prediction], feed_dict=feed_dict)\n",
    "        \n",
    "        # Calculate the averages\n",
    "        if step != 0:\n",
    "            batch_avg_loss = ((batch_avg_loss * (step - 1)) + l) / step\n",
    "            batch_avg_acc = ((batch_avg_acc * (step - 1)) + accuracy(predictions, batch_labels)) / step\n",
    "        \n",
    "        # Periodically print out the statistics\n",
    "        if (step % (num_steps/10) == 0):\n",
    "            print('{:^20}'.format(str(step)),end=\"\")\n",
    "            print('{:^20}'.format(str(time.clock() - start_time)),end=\"\")\n",
    "            print('{:^20}'.format(str(batch_avg_loss)),end=\"\")\n",
    "            print('{:^20}'.format(str(batch_avg_acc)),end=\"\")\n",
    "            print('{:^20}'.format(str(accuracy(valid_prediction.eval(), valid_labels))))\n",
    "            \n",
    "            # Restore the time\n",
    "            start_time = time.clock()\n",
    "            \n",
    "    # Print the test accuracy\n",
    "    print(\"Test accuracy: %.1f%%\" % accuracy(test_prediction.eval(), test_labels))"
   ]
  },
  {
   "cell_type": "markdown",
   "metadata": {
    "colab_type": "text",
    "id": "na8xX2yHZzNF"
   },
   "source": [
    "---\n",
    "Problem 2\n",
    "---------\n",
    "Let's demonstrate an extreme case of overfitting. Restrict your training data to just a few batches. What happens?\n",
    "\n",
    "---"
   ]
  },
  {
   "cell_type": "markdown",
   "metadata": {},
   "source": [
    "### Neural network with l2 loss and small training data"
   ]
  },
  {
   "cell_type": "code",
   "execution_count": null,
   "metadata": {
    "collapsed": false
   },
   "outputs": [],
   "source": [
    "BATCH_SIZE = 128\n",
    "REG_CONSTANT = 0.01\n",
    "NUM_STEPS = 6001\n",
    "TRAINING_DATA = 400\n",
    "LEARNING_RATE = 0.5\n",
    "\n",
    "graph = tf.Graph()\n",
    "with graph.as_default():\n",
    "\n",
    "    # Input data.\n",
    "    tf_train_dataset = tf.placeholder(tf.float32, shape=(BATCH_SIZE, image_size * image_size))\n",
    "    tf_train_labels = tf.placeholder(tf.float32, shape=(BATCH_SIZE, num_labels))\n",
    "    tf_valid_dataset = tf.constant(valid_dataset)\n",
    "    tf_test_dataset = tf.constant(test_dataset)\n",
    "  \n",
    "    # Variables.\n",
    "    weights = tf.Variable( tf.truncated_normal([image_size * image_size, num_labels]))\n",
    "    biases = tf.Variable(tf.zeros([num_labels]))\n",
    "  \n",
    "    # Training computation.\n",
    "    logits = tf.matmul(tf_train_dataset, weights) + biases\n",
    "    \n",
    "    # Loss\n",
    "    loss = tf.reduce_mean(tf.nn.softmax_cross_entropy_with_logits(logits, tf_train_labels))\n",
    "    \n",
    "    # Add regularization\n",
    "    loss = tf.reduce_mean(loss + REG_CONSTANT * tf.nn.l2_loss(weights))\n",
    "    \n",
    "    # Optimizer.\n",
    "    optimizer = tf.train.GradientDescentOptimizer(LEARNING_RATE).minimize(loss)\n",
    "  \n",
    "    # Predictions for the training, validation, and test data.\n",
    "    train_prediction = tf.nn.softmax(logits)\n",
    "    valid_prediction = tf.nn.softmax( tf.matmul(tf_valid_dataset, weights) + biases)\n",
    "    test_prediction = tf.nn.softmax(tf.matmul(tf_test_dataset, weights) + biases)\n",
    "    \n",
    "# Initialize the averages\n",
    "batch_avg_loss = 0.0\n",
    "batch_avg_acc = 0.0\n",
    "\n",
    "# Print the table format\n",
    "print('{:^20}'.format('Minibatch'),end=\"\")\n",
    "print('{:^20}'.format('Time'),'{:^20}'.format('Loss'),end=\"\")\n",
    "print('{:^20}'.format('Train accuracy'),'{:^20}'.format('Validation accuracy'))\n",
    "\n",
    "# Save the first time\n",
    "start_time = time.clock()\n",
    "\n",
    "with tf.Session(graph=graph) as session:\n",
    "    tf.initialize_all_variables().run()\n",
    "    for step in range(NUM_STEPS):\n",
    "        offset = (step * BATCH_SIZE) % (TRAINING_DATA - BATCH_SIZE)\n",
    "        \n",
    "        batch_data = train_dataset[offset:(offset + BATCH_SIZE), :]\n",
    "        batch_labels = train_labels[offset:(offset + BATCH_SIZE), :]\n",
    "        \n",
    "        feed_dict = {tf_train_dataset : batch_data, tf_train_labels : batch_labels}\n",
    "        \n",
    "        # Run the session\n",
    "        _, l, predictions = session.run([optimizer, loss, train_prediction], feed_dict=feed_dict)\n",
    "        \n",
    "        # Calculate the averages\n",
    "        if step != 0:\n",
    "            batch_avg_loss = ((batch_avg_loss * (step - 1)) + l) / step\n",
    "            batch_avg_acc = ((batch_avg_acc * (step - 1)) + accuracy(predictions, batch_labels)) / step\n",
    "            \n",
    "        if (step % (NUM_STEPS/10) == 0):\n",
    "            print('{:^20}'.format(str(step)),end=\"\")\n",
    "            print('{:^20}'.format(str(time.clock() - start_time)),end=\"\")\n",
    "            print('{:^20}'.format(str(batch_avg_loss)),end=\"\")\n",
    "            print('{:^20}'.format(str(batch_avg_acc)),end=\"\")\n",
    "            print('{:^20}'.format(str(accuracy(valid_prediction.eval(), valid_labels))))\n",
    "    print(\"Test accuracy: %.1f%%\" % accuracy(test_prediction.eval(), test_labels))"
   ]
  },
  {
   "cell_type": "markdown",
   "metadata": {
    "colab_type": "text",
    "id": "ww3SCBUdlkRc"
   },
   "source": [
    "---\n",
    "Problem 3\n",
    "---------\n",
    "Introduce Dropout on the hidden layer of the neural network. Remember: Dropout should only be introduced during training, not evaluation, otherwise your evaluation results would be stochastic as well. TensorFlow provides `nn.dropout()` for that, but you have to make sure it's only inserted during training.\n",
    "\n",
    "What happens to our extreme overfitting case?\n",
    "\n",
    "---"
   ]
  },
  {
   "cell_type": "code",
   "execution_count": null,
   "metadata": {
    "collapsed": false
   },
   "outputs": [],
   "source": [
    "## CONSTS ##\n",
    "LEARNING_RATE = 0.5\n",
    "BATCH_SIZE = 128\n",
    "HIDDEN_SIZE1 = 1024\n",
    "HIDDEN_SIZE2 = 300\n",
    "HIDDEN_SIZE3 = 50\n",
    "NUM_STEPS = 101\n",
    "REG_CONSTANT = 1e-3\n",
    "\n",
    "# Create the tf graph\n",
    "graph = tf.Graph()\n",
    "with graph.as_default():\n",
    "    # Input data. For the training data, we use a placeholder that will be fed\n",
    "    # at run time with a training minibatch.\n",
    "    tf_train_dataset = tf.placeholder(tf.float32, shape=(BATCH_SIZE, image_size * image_size))\n",
    "    tf_train_labels = tf.placeholder(tf.float32, shape=(BATCH_SIZE, num_labels))\n",
    "    tf_valid_dataset = tf.constant(valid_dataset)\n",
    "    tf_test_dataset = tf.constant(test_dataset)\n",
    "    keep_prob = tf.placeholder(\"float\")\n",
    "\n",
    "    ## Variables ##\n",
    "    # Hidden layer\n",
    "    weights1 = tf.Variable(tf.truncated_normal([image_size * image_size, HIDDEN_SIZE1]))\n",
    "    biases1 = tf.Variable(tf.zeros([HIDDEN_SIZE1]))\n",
    "    act1 = tf.nn.dropout(tf.nn.relu(tf.matmul(tf_train_dataset, weights1) + biases1), keep_prob)\n",
    "    \n",
    "    # Output layer\n",
    "    weights2 = tf.Variable(tf.truncated_normal([HIDDEN_SIZE1, num_labels]))\n",
    "    biases2 = tf.Variable(tf.zeros([num_labels]))\n",
    "    logits = tf.matmul(act1, weights2) + biases2\n",
    "\n",
    "    # Loss\n",
    "    loss = tf.reduce_mean(tf.nn.softmax_cross_entropy_with_logits(logits, tf_train_labels))\n",
    "    \n",
    "    # L2 regularization\n",
    "    regularizer = REG_CONSTANT * (tf.nn.l2_loss(weights1) + tf.nn.l2_loss(biases1) \\\n",
    "                                  + tf.nn.l2_loss(weights2) + tf.nn.l2_loss(biases2))\n",
    "    \n",
    "    # Add the regularization to the loss\n",
    "    loss = tf.reduce_mean(loss + regularizer)\n",
    "    \n",
    "    # Optimizer with a decaying learning rate\n",
    "    #global_step = tf.Variable(0)  # count the number of steps taken.\n",
    "    #learning_rate = tf.train.exponential_decay(LEARNING_RATE, global_step, 100000, 0.96, staircase=True)\n",
    "    optimizer = tf.train.GradientDescentOptimizer(LEARNING_RATE).minimize(loss)\n",
    "  \n",
    "    # Predictions for the training, validation, and test data.\n",
    "    train_prediction = tf.nn.softmax(logits)\n",
    "    valid_prediction = tf.matmul(tf.nn.relu(tf.matmul(tf_valid_dataset, weights1) + biases1),weights2) + biases2\n",
    "    test_prediction = tf.matmul(tf.nn.relu(tf.matmul(tf_test_dataset, weights1) + biases1),weights2) + biases2\n",
    "    \n",
    "# Save the initial time\n",
    "start_time = time.clock()\n",
    "\n",
    "# Print the table format\n",
    "print('{:^20}'.format('Minibatch'),end=\"\")\n",
    "print('{:^20}'.format('Time'),'{:^20}'.format('Loss'),end=\"\")\n",
    "print('{:^20}'.format('Train accuracy'),'{:^20}'.format('Validation accuracy'))\n",
    "\n",
    "# Initialize the averages\n",
    "batch_avg_loss = 0.0\n",
    "batch_avg_acc = 0.0\n",
    "\n",
    "# Start the session\n",
    "with tf.Session(graph=graph) as session:\n",
    "    # Initialize the variables\n",
    "    tf.initialize_all_variables().run()\n",
    "\n",
    "    # Loop through the steps\n",
    "    for step in range(NUM_STEPS):\n",
    "        # Pick an offset within the training data, which has been randomized.\n",
    "        offset = (step * BATCH_SIZE) % (train_labels.shape[0] - BATCH_SIZE)\n",
    "        \n",
    "        # Generate a minibatch.\n",
    "        batch_data = train_dataset[offset:(offset + BATCH_SIZE), :]\n",
    "        batch_labels = train_labels[offset:(offset + BATCH_SIZE), :]\n",
    "        \n",
    "        # Prepare a dictionary telling the session where to feed the minibatch.\n",
    "        # The key of the dictionary is the placeholder node of the graph to be fed,\n",
    "        # and the value is the numpy array to feed to it.\n",
    "        feed_dict = {tf_train_dataset : batch_data, tf_train_labels : batch_labels, keep_prob : 0.5}\n",
    "        \n",
    "         # Run the session\n",
    "        _, l, predictions = session.run([optimizer, loss, train_prediction], feed_dict=feed_dict)\n",
    "        \n",
    "        # Calculate the averages\n",
    "        if step != 0:\n",
    "            batch_avg_loss = ((batch_avg_loss * (step - 1)) + l) / step\n",
    "            batch_avg_acc = ((batch_avg_acc * (step - 1)) + accuracy(predictions, batch_labels)) / step\n",
    "            \n",
    "        if (step % (int)(NUM_STEPS/10) == 0):\n",
    "            print('{:^20}'.format(str(step)),end=\"\")\n",
    "            print('{:^20}'.format(str(time.clock() - start_time)),end=\"\")\n",
    "            print('{:^20}'.format(str(batch_avg_loss)),end=\"\")\n",
    "            print('{:^20}'.format(str(batch_avg_acc)),end=\"\")\n",
    "            print('{:^20}'.format(str(accuracy(valid_prediction.eval(), valid_labels))))\n",
    "            start_time = time.clock()\n",
    "    print(\"Test accuracy: %.1f%%\" % accuracy(test_prediction.eval(feed_dict={keep_prob: 1.0}), test_labels))"
   ]
  },
  {
   "cell_type": "markdown",
   "metadata": {
    "colab_type": "text",
    "id": "-b1hTz3VWZjw"
   },
   "source": [
    "---\n",
    "Problem 4\n",
    "---------\n",
    "\n",
    "Try to get the best performance you can using a multi-layer model! The best reported test accuracy using a deep network is [97.1%](http://yaroslavvb.blogspot.com/2011/09/notmnist-dataset.html?showComment=1391023266211#c8758720086795711595).\n",
    "\n",
    "One avenue you can explore is to add multiple layers.\n",
    "\n",
    "Another one is to use learning rate decay:\n",
    "\n",
    "    global_step = tf.Variable(0)  # count the number of steps taken.\n",
    "    learning_rate = tf.train.exponential_decay(0.5, global_step, ...)\n",
    "    optimizer = tf.train.GradientDescentOptimizer(learning_rate).minimize(loss, global_step=global_step)\n",
    " \n",
    " ---\n"
   ]
  },
  {
   "cell_type": "code",
   "execution_count": 37,
   "metadata": {
    "collapsed": false
   },
   "outputs": [
    {
     "name": "stdout",
     "output_type": "stream",
     "text": [
      "Batch sz: 128\n",
      "NN SIZE: 1024 300 50\n",
      "Steps: 600001\n",
      "Learning Rate: 0.5 Decay: 60000 0.65\n",
      "Regularization Constant: 1e-05\n",
      "Dropout probability: 0.5\n",
      "     Minibatch              Time                 Loss           Train accuracy    Validation accuracy \n",
      "         1             0.372368999997       2.3020131588            12.5               25.65        \n",
      "       40001             2315.31532        0.484090711855      86.6174804687           88.91        \n",
      "       80001            2386.637877        0.428440992763      88.8036132813           89.31        \n"
     ]
    },
    {
     "ename": "KeyboardInterrupt",
     "evalue": "",
     "output_type": "error",
     "traceback": [
      "\u001b[1;31m---------------------------------------------------------------------------\u001b[0m",
      "\u001b[1;31mKeyboardInterrupt\u001b[0m                         Traceback (most recent call last)",
      "\u001b[1;32m<ipython-input-37-0ef97644a86d>\u001b[0m in \u001b[0;36m<module>\u001b[1;34m()\u001b[0m\n\u001b[0;32m    116\u001b[0m \u001b[1;33m\u001b[0m\u001b[0m\n\u001b[0;32m    117\u001b[0m          \u001b[1;31m# Run the session\u001b[0m\u001b[1;33m\u001b[0m\u001b[1;33m\u001b[0m\u001b[0m\n\u001b[1;32m--> 118\u001b[1;33m         \u001b[0m_\u001b[0m\u001b[1;33m,\u001b[0m \u001b[0ml\u001b[0m\u001b[1;33m,\u001b[0m \u001b[0mpredictions\u001b[0m \u001b[1;33m=\u001b[0m \u001b[0msession\u001b[0m\u001b[1;33m.\u001b[0m\u001b[0mrun\u001b[0m\u001b[1;33m(\u001b[0m\u001b[1;33m[\u001b[0m\u001b[0moptimizer\u001b[0m\u001b[1;33m,\u001b[0m \u001b[0mloss\u001b[0m\u001b[1;33m,\u001b[0m \u001b[0mtrain_prediction\u001b[0m\u001b[1;33m]\u001b[0m\u001b[1;33m,\u001b[0m \u001b[0mfeed_dict\u001b[0m\u001b[1;33m=\u001b[0m\u001b[0mfeed_dict\u001b[0m\u001b[1;33m)\u001b[0m\u001b[1;33m\u001b[0m\u001b[0m\n\u001b[0m\u001b[0;32m    119\u001b[0m \u001b[1;33m\u001b[0m\u001b[0m\n\u001b[0;32m    120\u001b[0m         \u001b[1;31m# Calculate the averages\u001b[0m\u001b[1;33m\u001b[0m\u001b[1;33m\u001b[0m\u001b[0m\n",
      "\u001b[1;32m/usr/local/lib/python2.7/dist-packages/tensorflow/python/client/session.pyc\u001b[0m in \u001b[0;36mrun\u001b[1;34m(self, fetches, feed_dict)\u001b[0m\n\u001b[0;32m    313\u001b[0m         \u001b[1;33m`\u001b[0m\u001b[0mTensor\u001b[0m\u001b[1;33m`\u001b[0m \u001b[0mthat\u001b[0m \u001b[0mdoesn\u001b[0m\u001b[0;31m'\u001b[0m\u001b[0mt\u001b[0m \u001b[0mexist\u001b[0m\u001b[1;33m.\u001b[0m\u001b[1;33m\u001b[0m\u001b[0m\n\u001b[0;32m    314\u001b[0m     \"\"\"\n\u001b[1;32m--> 315\u001b[1;33m     \u001b[1;32mreturn\u001b[0m \u001b[0mself\u001b[0m\u001b[1;33m.\u001b[0m\u001b[0m_run\u001b[0m\u001b[1;33m(\u001b[0m\u001b[0mNone\u001b[0m\u001b[1;33m,\u001b[0m \u001b[0mfetches\u001b[0m\u001b[1;33m,\u001b[0m \u001b[0mfeed_dict\u001b[0m\u001b[1;33m)\u001b[0m\u001b[1;33m\u001b[0m\u001b[0m\n\u001b[0m\u001b[0;32m    316\u001b[0m \u001b[1;33m\u001b[0m\u001b[0m\n\u001b[0;32m    317\u001b[0m   \u001b[1;32mdef\u001b[0m \u001b[0mpartial_run\u001b[0m\u001b[1;33m(\u001b[0m\u001b[0mself\u001b[0m\u001b[1;33m,\u001b[0m \u001b[0mhandle\u001b[0m\u001b[1;33m,\u001b[0m \u001b[0mfetches\u001b[0m\u001b[1;33m,\u001b[0m \u001b[0mfeed_dict\u001b[0m\u001b[1;33m=\u001b[0m\u001b[0mNone\u001b[0m\u001b[1;33m)\u001b[0m\u001b[1;33m:\u001b[0m\u001b[1;33m\u001b[0m\u001b[0m\n",
      "\u001b[1;32m/usr/local/lib/python2.7/dist-packages/tensorflow/python/client/session.pyc\u001b[0m in \u001b[0;36m_run\u001b[1;34m(self, handle, fetches, feed_dict)\u001b[0m\n\u001b[0;32m    509\u001b[0m     \u001b[1;31m# Run request and get response.\u001b[0m\u001b[1;33m\u001b[0m\u001b[1;33m\u001b[0m\u001b[0m\n\u001b[0;32m    510\u001b[0m     results = self._do_run(handle, target_list, unique_fetches,\n\u001b[1;32m--> 511\u001b[1;33m                            feed_dict_string)\n\u001b[0m\u001b[0;32m    512\u001b[0m \u001b[1;33m\u001b[0m\u001b[0m\n\u001b[0;32m    513\u001b[0m     \u001b[1;31m# User may have fetched the same tensor multiple times, but we\u001b[0m\u001b[1;33m\u001b[0m\u001b[1;33m\u001b[0m\u001b[0m\n",
      "\u001b[1;32m/usr/local/lib/python2.7/dist-packages/tensorflow/python/client/session.pyc\u001b[0m in \u001b[0;36m_do_run\u001b[1;34m(self, handle, target_list, fetch_list, feed_dict)\u001b[0m\n\u001b[0;32m    562\u001b[0m     \u001b[1;32mif\u001b[0m \u001b[0mhandle\u001b[0m \u001b[1;32mis\u001b[0m \u001b[0mNone\u001b[0m\u001b[1;33m:\u001b[0m\u001b[1;33m\u001b[0m\u001b[0m\n\u001b[0;32m    563\u001b[0m       return self._do_call(_run_fn, self._session, feed_dict, fetch_list,\n\u001b[1;32m--> 564\u001b[1;33m                            target_list)\n\u001b[0m\u001b[0;32m    565\u001b[0m     \u001b[1;32melse\u001b[0m\u001b[1;33m:\u001b[0m\u001b[1;33m\u001b[0m\u001b[0m\n\u001b[0;32m    566\u001b[0m       return self._do_call(_prun_fn, self._session, handle, feed_dict,\n",
      "\u001b[1;32m/usr/local/lib/python2.7/dist-packages/tensorflow/python/client/session.pyc\u001b[0m in \u001b[0;36m_do_call\u001b[1;34m(self, fn, *args)\u001b[0m\n\u001b[0;32m    569\u001b[0m   \u001b[1;32mdef\u001b[0m \u001b[0m_do_call\u001b[0m\u001b[1;33m(\u001b[0m\u001b[0mself\u001b[0m\u001b[1;33m,\u001b[0m \u001b[0mfn\u001b[0m\u001b[1;33m,\u001b[0m \u001b[1;33m*\u001b[0m\u001b[0margs\u001b[0m\u001b[1;33m)\u001b[0m\u001b[1;33m:\u001b[0m\u001b[1;33m\u001b[0m\u001b[0m\n\u001b[0;32m    570\u001b[0m     \u001b[1;32mtry\u001b[0m\u001b[1;33m:\u001b[0m\u001b[1;33m\u001b[0m\u001b[0m\n\u001b[1;32m--> 571\u001b[1;33m       \u001b[1;32mreturn\u001b[0m \u001b[0mfn\u001b[0m\u001b[1;33m(\u001b[0m\u001b[1;33m*\u001b[0m\u001b[0margs\u001b[0m\u001b[1;33m)\u001b[0m\u001b[1;33m\u001b[0m\u001b[0m\n\u001b[0m\u001b[0;32m    572\u001b[0m     \u001b[1;32mexcept\u001b[0m \u001b[0mtf_session\u001b[0m\u001b[1;33m.\u001b[0m\u001b[0mStatusNotOK\u001b[0m \u001b[1;32mas\u001b[0m \u001b[0me\u001b[0m\u001b[1;33m:\u001b[0m\u001b[1;33m\u001b[0m\u001b[0m\n\u001b[0;32m    573\u001b[0m       \u001b[0me_type\u001b[0m\u001b[1;33m,\u001b[0m \u001b[0me_value\u001b[0m\u001b[1;33m,\u001b[0m \u001b[0me_traceback\u001b[0m \u001b[1;33m=\u001b[0m \u001b[0msys\u001b[0m\u001b[1;33m.\u001b[0m\u001b[0mexc_info\u001b[0m\u001b[1;33m(\u001b[0m\u001b[1;33m)\u001b[0m\u001b[1;33m\u001b[0m\u001b[0m\n",
      "\u001b[1;32m/usr/local/lib/python2.7/dist-packages/tensorflow/python/client/session.pyc\u001b[0m in \u001b[0;36m_run_fn\u001b[1;34m(session, feed_dict, fetch_list, target_list)\u001b[0m\n\u001b[0;32m    553\u001b[0m       \u001b[1;31m# Ensure any changes to the graph are reflected in the runtime.\u001b[0m\u001b[1;33m\u001b[0m\u001b[1;33m\u001b[0m\u001b[0m\n\u001b[0;32m    554\u001b[0m       \u001b[0mself\u001b[0m\u001b[1;33m.\u001b[0m\u001b[0m_extend_graph\u001b[0m\u001b[1;33m(\u001b[0m\u001b[1;33m)\u001b[0m\u001b[1;33m\u001b[0m\u001b[0m\n\u001b[1;32m--> 555\u001b[1;33m       \u001b[1;32mreturn\u001b[0m \u001b[0mtf_session\u001b[0m\u001b[1;33m.\u001b[0m\u001b[0mTF_Run\u001b[0m\u001b[1;33m(\u001b[0m\u001b[0msession\u001b[0m\u001b[1;33m,\u001b[0m \u001b[0mfeed_dict\u001b[0m\u001b[1;33m,\u001b[0m \u001b[0mfetch_list\u001b[0m\u001b[1;33m,\u001b[0m \u001b[0mtarget_list\u001b[0m\u001b[1;33m)\u001b[0m\u001b[1;33m\u001b[0m\u001b[0m\n\u001b[0m\u001b[0;32m    556\u001b[0m \u001b[1;33m\u001b[0m\u001b[0m\n\u001b[0;32m    557\u001b[0m     \u001b[1;32mdef\u001b[0m \u001b[0m_prun_fn\u001b[0m\u001b[1;33m(\u001b[0m\u001b[0msession\u001b[0m\u001b[1;33m,\u001b[0m \u001b[0mhandle\u001b[0m\u001b[1;33m,\u001b[0m \u001b[0mfeed_dict\u001b[0m\u001b[1;33m,\u001b[0m \u001b[0mfetch_list\u001b[0m\u001b[1;33m)\u001b[0m\u001b[1;33m:\u001b[0m\u001b[1;33m\u001b[0m\u001b[0m\n",
      "\u001b[1;31mKeyboardInterrupt\u001b[0m: "
     ]
    }
   ],
   "source": [
    "## CONSTS ##\n",
    "BATCH_SIZE = 128\n",
    "HIDDEN_SIZE1 = 1024\n",
    "HIDDEN_SIZE2 = 300\n",
    "HIDDEN_SIZE3 = 50\n",
    "NUM_STEPS = 600001\n",
    "LEARNING_RATE = 0.5\n",
    "LR_DECAY_RATE = 0.9\n",
    "LR_DECAY_STEPS = (NUM_STEPS/10)\n",
    "REG_CONSTANT = 1e-5\n",
    "KEEP_PROB = 0.5\n",
    "\n",
    "# Print the configuration\n",
    "print(\"Batch sz:\",BATCH_SIZE)\n",
    "print(\"NN SIZE:\",HIDDEN_SIZE1,HIDDEN_SIZE2,HIDDEN_SIZE3)\n",
    "print(\"Steps:\",NUM_STEPS)\n",
    "print(\"Learning Rate:\",LEARNING_RATE, \"Decay:\", LR_DECAY_STEPS, LR_DECAY_RATE)\n",
    "print(\"Regularization Constant:\", REG_CONSTANT)\n",
    "print(\"Dropout probability:\", KEEP_PROB)\n",
    "\n",
    "# Create the tf graph\n",
    "graph = tf.Graph()\n",
    "with graph.as_default():\n",
    "    # Input data. For the training data, we use a placeholder that will be fed\n",
    "    # at run time with a training minibatch.\n",
    "    tf_train_dataset = tf.placeholder(tf.float32, shape=(BATCH_SIZE, image_size * image_size))\n",
    "    tf_train_labels = tf.placeholder(tf.float32, shape=(BATCH_SIZE, num_labels))\n",
    "    tf_valid_dataset = tf.constant(valid_dataset)\n",
    "    tf_test_dataset = tf.constant(test_dataset)\n",
    "    global_step = tf.Variable(0)  # count the number of steps taken.\n",
    "\n",
    "    ## Variables ##\n",
    "    # First Hidden layer\n",
    "    weights1 = tf.Variable(tf.truncated_normal(\n",
    "                [image_size * image_size, HIDDEN_SIZE1],\n",
    "                stddev=np.sqrt(2.0 / (image_size * image_size))))\n",
    "    biases1 = tf.Variable(tf.zeros([HIDDEN_SIZE1]))\n",
    "    act1 = tf.nn.dropout(tf.nn.relu(tf.matmul(tf_train_dataset, weights1) + biases1), KEEP_PROB)\n",
    "\n",
    "    # Second Hidden layer\n",
    "    weights2 = tf.Variable(tf.truncated_normal(\n",
    "                [HIDDEN_SIZE1, HIDDEN_SIZE2],\n",
    "                stddev=np.sqrt(2.0 / (image_size * image_size))))\n",
    "    biases2 = tf.Variable(tf.zeros([HIDDEN_SIZE2]))\n",
    "    act2 = tf.nn.dropout(tf.nn.relu(tf.matmul(act1, weights2) + biases2), KEEP_PROB)\n",
    "\n",
    "    # Third hidden layer\n",
    "    weights3 = tf.Variable(tf.truncated_normal(\n",
    "                    [HIDDEN_SIZE2, HIDDEN_SIZE3],\n",
    "                    stddev=np.sqrt(2.0 / (image_size * image_size))))\n",
    "    biases3 = tf.Variable(tf.zeros([HIDDEN_SIZE3]))\n",
    "    act3 = tf.nn.dropout(tf.nn.relu(tf.matmul(act2, weights3) + biases3), KEEP_PROB)\n",
    "\n",
    "    # Output layer\n",
    "    weights4 = tf.Variable(tf.truncated_normal(\n",
    "                    [HIDDEN_SIZE3, num_labels],\n",
    "                    stddev=np.sqrt(2.0 / (image_size * image_size))))\n",
    "    biases4 = tf.Variable(tf.zeros([num_labels]))\n",
    "    logits = tf.matmul(act3, weights4) + biases4\n",
    "\n",
    "    # Loss\n",
    "    loss = tf.reduce_mean(tf.nn.softmax_cross_entropy_with_logits(logits, tf_train_labels))\n",
    "\n",
    "    # L2 regularization\n",
    "    regularizer = REG_CONSTANT * (tf.nn.l2_loss(weights1) + tf.nn.l2_loss(biases1) +\\\n",
    "                                  tf.nn.l2_loss(weights2) + tf.nn.l2_loss(biases2) +\\\n",
    "                                 tf.nn.l2_loss(weights3) + tf.nn.l2_loss(biases3) +\\\n",
    "                                 tf.nn.l2_loss(weights4) + tf.nn.l2_loss(biases4))\n",
    "\n",
    "    # Add the regularization to the loss\n",
    "    loss = tf.reduce_mean(loss + regularizer)\n",
    "\n",
    "    # Optimizer with a decaying learning rate\n",
    "    learning_rate = tf.train.exponential_decay(LEARNING_RATE, global_step, LR_DECAY_STEPS, LR_DECAY_RATE, staircase=True)\n",
    "    optimizer = tf.train.GradientDescentOptimizer(learning_rate).minimize(loss)\n",
    "\n",
    "    # Predictions for the training, validation, and test data.\n",
    "    train_prediction = tf.nn.softmax(logits)\n",
    "    valid1 = tf.nn.relu(tf.matmul(tf_valid_dataset, weights1) + biases1)\n",
    "    valid2 = tf.nn.relu(tf.matmul(valid1, weights2) + biases2)\n",
    "    valid3 = tf.nn.relu(tf.matmul(valid2, weights3) + biases3)\n",
    "    valid_prediction = tf.nn.softmax(tf.matmul(valid3, weights4) + biases4)\n",
    "    test1 = tf.nn.relu(tf.matmul(tf_test_dataset, weights1) + biases1)\n",
    "    test2 = tf.nn.relu(tf.matmul(test1, weights2) + biases2)\n",
    "    test3 = tf.nn.relu(tf.matmul(test2, weights3) + biases3)\n",
    "    test_prediction = tf.nn.softmax(tf.matmul(test3, weights4) + biases4)\n",
    "\n",
    "# Save the initial time\n",
    "start_time = time.clock()\n",
    "\n",
    "# Print the table format\n",
    "print('{:^20}'.format('Minibatch'),end=\"\")\n",
    "print('{:^20}'.format('Time'),'{:^20}'.format('Loss'),end=\"\")\n",
    "print('{:^20}'.format('Train accuracy'),'{:^20}'.format('Validation accuracy'))\n",
    "\n",
    "# Initialize the averages\n",
    "batch_avg_loss = 0.0\n",
    "batch_avg_acc = 0.0\n",
    "batch_step = 0\n",
    "\n",
    "# Start the session\n",
    "with tf.Session(graph=graph) as session:\n",
    "    # Initialize the variables\n",
    "    tf.initialize_all_variables().run()\n",
    "\n",
    "    # Loop through the steps\n",
    "    for step in range(NUM_STEPS):\n",
    "        # Pick an offset within the training data, which has been randomized.\n",
    "        offset = (step * BATCH_SIZE) % (train_labels.shape[0] - BATCH_SIZE)\n",
    "\n",
    "        # Generate a minibatch.\n",
    "        batch_data = train_dataset[offset:(offset + BATCH_SIZE), :]\n",
    "        batch_labels = train_labels[offset:(offset + BATCH_SIZE), :]\n",
    "\n",
    "        # Prepare a dictionary telling the session where to feed the minibatch.\n",
    "        # The key of the dictionary is the placeholder node of the graph to be fed,\n",
    "        # and the value is the numpy array to feed to it.\n",
    "        feed_dict = {tf_train_dataset : batch_data, tf_train_labels : batch_labels}\n",
    "\n",
    "         # Run the session\n",
    "        _, l, predictions = session.run([optimizer, loss, train_prediction], feed_dict=feed_dict)\n",
    "\n",
    "        # Calculate the averages\n",
    "        if step != 0:\n",
    "            batch_avg_loss = ((batch_avg_loss * (step - batch_step - 1)) + l) \\\n",
    "                                / (step - batch_step)\n",
    "            batch_avg_acc = ((batch_avg_acc * (step - batch_step - 1)) + accuracy(predictions, batch_labels)) \\\n",
    "                                / (step - batch_step)\n",
    "\n",
    "        # At periodic intervals, print out the statistics\n",
    "        if ((step % (int)(NUM_STEPS/15) == 1) or (step == NUM_STEPS -1)): \n",
    "            # Print the values\n",
    "            print('{:^20}'.format(str(step)),end=\"\")\n",
    "            print('{:^20}'.format(str(time.clock() - start_time)),end=\"\")\n",
    "            print('{:^20}'.format(str(batch_avg_loss)),end=\"\")\n",
    "            print('{:^20}'.format(str(batch_avg_acc)),end=\"\")\n",
    "            print('{:^20}'.format(str(accuracy(valid_prediction.eval(), valid_labels))))\n",
    "\n",
    "            # Reset the values\n",
    "            start_time = time.clock()\n",
    "            batch_avg_loss = 0.0\n",
    "            batch_avg_acc = 0.0\n",
    "            batch_step = step\n",
    "\n",
    "    # Print the test accuracy\n",
    "    print(\"Test accuracy: %.1f%%\" % accuracy(test_prediction.eval(), test_labels))"
   ]
  },
  {
   "cell_type": "code",
   "execution_count": null,
   "metadata": {
    "collapsed": true
   },
   "outputs": [],
   "source": []
  }
 ],
 "metadata": {
  "colab": {
   "default_view": {},
   "name": "3_regularization.ipynb",
   "provenance": [],
   "version": "0.3.2",
   "views": {}
  },
  "kernelspec": {
   "display_name": "Python 2",
   "language": "python",
   "name": "python2"
  },
  "language_info": {
   "codemirror_mode": {
    "name": "ipython",
    "version": 2
   },
   "file_extension": ".py",
   "mimetype": "text/x-python",
   "name": "python",
   "nbconvert_exporter": "python",
   "pygments_lexer": "ipython2",
   "version": "2.7.6"
  }
 },
 "nbformat": 4,
 "nbformat_minor": 0
}
