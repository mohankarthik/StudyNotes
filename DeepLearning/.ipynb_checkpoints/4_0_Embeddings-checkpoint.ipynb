{
 "cells": [
  {
   "cell_type": "markdown",
   "metadata": {},
   "source": [
    "# Text Embeddings\n",
    "## Use-case\n",
    "Classifying documents, e-mails, etc…\n",
    "\n",
    "## Problems\n",
    "Language Vocabulary is crazy insane\n",
    "We use plenty of words to mean the same thing\n",
    "It's impossible to create a labeled set of words for supervised training\n",
    "\n",
    "## Solution\n",
    "Unsupervised learning\n",
    "A model that predicts the context of words rather than focus on the words themselves\n",
    "![Embeddings](img/Embeddings.png)\n",
    "\n",
    "## Word2Vec\n",
    "![Word2Vec](img/Word2Vec.png)\n",
    "Take each word in a sentence and convert it and it's neighbouring words into a vector and send it to a classifier. The classifier can simply be a logistic regression, nothing deep.\n",
    "\n",
    "Because of the way the model is trained, it's better to use cosine distance rather than the L2 norm\n",
    "![Comparing Embeddings](img/CompEmbeddings.png)\n",
    "\n",
    "Another problem is, consider that this is the flow of Word2Vec\n",
    "![Sampled Softmax](img/SampledSoftmax.png)\n",
    "\n",
    "The word CAT might now have multiple matches in the cross entropy, thus there is a technique called sampled softmax, where we randomly remove plenty of surely negative components and then calculate the softmax. This yields a much better throughput without sacrificing accuracy. This is a concern because, with vocabulary, we our output array might be in millions…\n",
    "\n",
    "## tSNE\n",
    "To check if it's actually working, we can try to either\n",
    "* Do a nearest neighbor check for each word and see that it's actually finding close neighbors.\n",
    "* Reduce the dimensionality to 2D, we can do this with PCA, but PCA loses a lot of information… So instead we can use a new technique called t-SNE.\n",
    "* t-SNE reduces the dimensionality while retaining as much information as possible\n"
   ]
  },
  {
   "cell_type": "code",
   "execution_count": null,
   "metadata": {
    "collapsed": true
   },
   "outputs": [],
   "source": []
  }
 ],
 "metadata": {
  "kernelspec": {
   "display_name": "Python 2",
   "language": "python",
   "name": "python2"
  },
  "language_info": {
   "codemirror_mode": {
    "name": "ipython",
    "version": 2
   },
   "file_extension": ".py",
   "mimetype": "text/x-python",
   "name": "python",
   "nbconvert_exporter": "python",
   "pygments_lexer": "ipython2",
   "version": "2.7.6"
  }
 },
 "nbformat": 4,
 "nbformat_minor": 0
}
