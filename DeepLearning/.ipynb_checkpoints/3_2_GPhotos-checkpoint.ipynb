{
 "cells": [
  {
   "cell_type": "code",
   "execution_count": 17,
   "metadata": {
    "collapsed": false
   },
   "outputs": [
    {
     "name": "stdout",
     "output_type": "stream",
     "text": [
      "title: Kazhugumalai Jun 2014, number of photos: 16, id: 6023712542657826545\n",
      "title: Courtallam Jun 2014, number of photos: 12, id: 6023710319213791313\n",
      "title: Seoul May 2014, number of photos: 24, id: 6014019327648831409\n",
      "title: My Clicks, number of photos: 14, id: 5994020864248635553\n",
      "title: Galaxy S2 - First Shots, number of photos: 8, id: 5994024164576524705\n",
      "title: Profile Photos, number of photos: 6, id: 5626843287666594801\n",
      "title: Scrapbook Photos, number of photos: 1, id: 5771200691033014033\n"
     ]
    }
   ],
   "source": [
    "import gdata.photos.service\n",
    "import gdata.media\n",
    "import gdata.geo\n",
    "import cgi\n",
    "\n",
    "# Create a login\n",
    "gd_client = gdata.photos.service.PhotosService()\n",
    "gd_client.email = 'nemesis.nitt@gmail.com'\n",
    "gd_client.password = '#08Jkm2011goo#'\n",
    "gd_client.source = 'exampleCo-exampleApp-1'\n",
    "gd_client.ProgrammaticLogin()\n",
    "\n",
    "# Getting a session token\n",
    "#parameters = cgi.FieldStorage()\n",
    "#authsub_token = parameters['token']\n",
    "#gd_client = gdata.photos.service.PhotosService()\n",
    "#gd_client.auth_token = authsub_token\n",
    "#gd_client.UpgradeToSessionToken()\n",
    "\n",
    "# Get a list of albums\n",
    "albums = gd_client.GetUserFeed(user=gd_client.email)\n",
    "for album in albums.entry:\n",
    "  print ('title: %s, number of photos: %s, id: %s' % (album.title.text, album.numphotos.text, album.gphoto_id.text))\n",
    "\n",
    "photos = gd_client.SearchCommunityPhotos('puppy', limit='10')\n",
    "for photo in photos.entry:\n",
    "  print ('Community photo title:', photo.title.text)"
   ]
  },
  {
   "cell_type": "code",
   "execution_count": null,
   "metadata": {
    "collapsed": true
   },
   "outputs": [],
   "source": []
  }
 ],
 "metadata": {
  "kernelspec": {
   "display_name": "Python 2",
   "language": "python",
   "name": "python2"
  },
  "language_info": {
   "codemirror_mode": {
    "name": "ipython",
    "version": 2
   },
   "file_extension": ".py",
   "mimetype": "text/x-python",
   "name": "python",
   "nbconvert_exporter": "python",
   "pygments_lexer": "ipython2",
   "version": "2.7.6"
  }
 },
 "nbformat": 4,
 "nbformat_minor": 0
}
