{
 "cells": [
  {
   "cell_type": "markdown",
   "metadata": {},
   "source": [
    "# Multinomial Logistic Regression\n",
    "$$\\textrm{Hypothesis is }\\tilde{y} = Wx + b$$\n",
    "\n",
    "## Softmax\n",
    "Softmax allows us to turn the final hypothesis output into normalized probabilities\n",
    "$$S(y_{j}) = \\frac{e^{y_{j}}}{\\sum_{i}e^{y_{i}}}$$\n",
    "\n",
    "**Properties:**\n",
    "* If the scores are all multiplied by a constant, this will result in one of the scores (the highest one getting very close to 1.0, while the others die out and get close to 0)\n",
    "* If the scores are all divided by a constant, this will result in all the scores getting closer to the uniform distribution of 1/len(y)\n",
    "* So this means that if we can increase the magnitude of the outputs, the classifier becomes more and more confident.\n",
    "\n",
    "**Note:** The scores or the hypothesis output is also called as logits\n",
    "\n",
    "## One Hot encoding\n",
    "Set the hypothesis output to 1.0 for the most probable class and 0 for all others. With very large data, this becomes a problem, because we have huge vectors with just one value as 1 and all other value as 0. We will deal with this later with \"embeddings\"\n",
    "\n",
    "## Cross Entropy\n",
    "$$\\textrm{Say }D(S, L) = -\\sum_{i}(L_{i}\\log(S_{i}))$$\n",
    "where S is the output of the softmax function and L is the one hot labels.\n",
    "\n",
    "## Data Flow\n"
   ]
  },
  {
   "cell_type": "code",
   "execution_count": null,
   "metadata": {
    "collapsed": true
   },
   "outputs": [],
   "source": []
  }
 ],
 "metadata": {
  "kernelspec": {
   "display_name": "Python 2",
   "language": "python",
   "name": "python2"
  },
  "language_info": {
   "codemirror_mode": {
    "name": "ipython",
    "version": 2
   },
   "file_extension": ".py",
   "mimetype": "text/x-python",
   "name": "python",
   "nbconvert_exporter": "python",
   "pygments_lexer": "ipython2",
   "version": "2.7.6"
  }
 },
 "nbformat": 4,
 "nbformat_minor": 0
}
