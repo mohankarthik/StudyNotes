{
 "cells": [
  {
   "cell_type": "markdown",
   "metadata": {},
   "source": [
    "# Geometric Camera Calibration\n",
    "* To be able to map an external world to an image, we need the transformation from the external 3D world into the 3D camera (extrinsic) and then the 3D camera to the 2D sensor image pixel (intrinsic)\n",
    "\n",
    "## Extrinsic Parameters\n",
    "### Camera Pose\n",
    "* A camera can have 6 degrees of freedom to move around\n",
    "![](img/CameraDegFreedom.png)\n",
    "\n",
    "### Notations\n",
    "* The superscript denotes the co-ordinate system we are refering to\n",
    "* So any point P can be located in the A coordinate system at\n",
    "$$^AP = \\left[\n",
    "\\begin{array}\\\\\n",
    "^Ax \\\\\n",
    "^Ay \\\\\n",
    "^Az \\\\\n",
    "\\end{array}\n",
    "\\right] <=> \\vec{OP} = (^Ax.\\vec{i_{A}}) + (^Ay.\\vec{j_{A}}) + (^Az.\\vec{k_{A}})$$\n",
    "  * i.e.: As <sup>A</sup>x, etc.. or as a vector OP where O is origin, multipled with the corresponding axis vectors"
   ]
  },
  {
   "cell_type": "code",
   "execution_count": null,
   "metadata": {
    "collapsed": true
   },
   "outputs": [],
   "source": []
  }
 ],
 "metadata": {
  "kernelspec": {
   "display_name": "Python 2",
   "language": "python",
   "name": "python2"
  },
  "language_info": {
   "codemirror_mode": {
    "name": "ipython",
    "version": 2
   },
   "file_extension": ".py",
   "mimetype": "text/x-python",
   "name": "python",
   "nbconvert_exporter": "python",
   "pygments_lexer": "ipython2",
   "version": "2.7.6"
  }
 },
 "nbformat": 4,
 "nbformat_minor": 1
}
