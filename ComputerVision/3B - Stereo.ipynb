{
 "cells": [
  {
   "cell_type": "markdown",
   "metadata": {},
   "source": [
    "# Depth\n",
    "* Humans get a depth perception from multiple cues: Texture changes, shadows, lighting, focus, perspective depth, etc..\n",
    "* A camera could do this in multiple ways\n",
    "  * We can take multiple pics from the same camera, in the same location by changing the DOV (aperture size)\n",
    "    * This will give us various images where the objects not at focal length becomes progressively blurred\n",
    "    * By the amount of blurring, we can get a sense of the depth of the various objects in the image\n",
    "  * If the object is moving wrt to the camera\n",
    "    * then also by the aparent change in the projection, we can figure out the depth (Z)\n",
    "  * But the best way is still to have two slightly different views of the same object (**Stereo**)\n",
    "  \n",
    "## Estimating depth from stereo\n",
    "* We need two important information to estimate the depth from a stereo image\n",
    "  1. We need the relative pose between the 2 cameras (camera calibration)\n",
    "  2. We'll need to find how a single object will get projected onto both the images (Image point correspondances)\n",
    "* Let's assume that we've a parallel stereo camera setup (perfectly parallel optical axis)\n",
    "![Parallel stereo](img/ParallelStereo.png)\n",
    "  * We'll also assume that both the camera's are perfectly coplanar\n",
    "  * And that they've the exact same focal length\n",
    "  * The image will project to the left of the POC<sub>L</sub> and to the right of the POC<sub>R</sub>\n",
    "  * Based on how far left and how far right, we can figure out the depth Z easily with basic geometry\n",
    "$$Z = f\\frac{B}{x_{l} - x_{r}}$$\n",
    "where\n",
    "Z is the distance of the object from the optical centers of both the cameras\n",
    "B is the distance between the two optical centers\n",
    "x<sub>l</sub> and x<sub>r</sub> are the projection offsets corresponding to each camera (keep the sign) \n",
    "  * Note that as the disparity decreases, the depth increases. For objects with infinite depth, the disparity will be 0\n",
    "  * Take an image of the Moon with both the cameras, and the xl and xr is still going to be the same\n",
    "  "
   ]
  },
  {
   "cell_type": "code",
   "execution_count": null,
   "metadata": {
    "collapsed": true
   },
   "outputs": [],
   "source": []
  }
 ],
 "metadata": {
  "kernelspec": {
   "display_name": "Python 2",
   "language": "python",
   "name": "python2"
  },
  "language_info": {
   "codemirror_mode": {
    "name": "ipython",
    "version": 2
   },
   "file_extension": ".py",
   "mimetype": "text/x-python",
   "name": "python",
   "nbconvert_exporter": "python",
   "pygments_lexer": "ipython2",
   "version": "2.7.6"
  }
 },
 "nbformat": 4,
 "nbformat_minor": 1
}
