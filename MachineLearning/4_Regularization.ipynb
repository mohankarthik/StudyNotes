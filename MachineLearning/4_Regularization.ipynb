{
 "cells": [
  {
   "cell_type": "markdown",
   "metadata": {},
   "source": [
    "# Overfitting & Regularization\n",
    "\n",
    "## Overfitting\n",
    "* When the hypothesis is formed in such a way to exactly fit the training data, but does not generalize well; hence will give poor outputs on actual data\n",
    "![Over and Under fitting](img/OverUnderFit.png)\n",
    "\n",
    "* To solve this, one should\n",
    "  * Manually removing unnecessary features\n",
    "  * Use a model selection algorithm that will automatically reduce the number of features\n",
    "  * Or use regularization, which will keep all the features but reduce the magnitude of θ for all the features. Basically works well when we've a lot of features each contributing a little bit to the output.\n",
    "\t\t\n",
    "## Regularization\n",
    "* Inflict higher costs for higher degree polynomials and hence force them to just contribute smaller portions to the hypothesis\n",
    "* Modify the cost function to add a cost to the corresponding θ's.\n",
    "\n",
    "## Regularized Linear Regression\n",
    "$$J(\\theta) = \\frac{1}{2m}\\Big[\\sum_{i=1}^m(h_{\\theta}(x^{i}) − y^{i})^2) + \\lambda\\sum_{j=1}^n\\theta_{j}^2\\Big]$$\n",
    "$$\\theta_{0} ≔ \\theta_{0} − \\alpha\\frac{1}{m}\\sum_{i=1}^m(h_{\\theta}(x^{i}) − y^{i})x_{0}^i$$\n",
    "$$\\theta_{j} ≔ \\theta_{j}\\Big(1 − α\\frac{\\lambda}{m}\\Big) − \\alpha\\frac{1}{m}\\sum_{i=1}^m(h_{\\theta}(x^{i}) − y^{i})x_{j}^i; j \\neq 0$$\n",
    "**Note:** (1 − α λ/m)  will typically be < 1 and hence iteratively reducing θ_j  over time\n",
    "\t\n",
    "## Regularized Normal Equation\n",
    "$$\\Theta = (X^{T} * X + λ\\begin{bmatrix}\n",
    "    0 & 0 & 0 \\\\\n",
    "    0 & 1 & 0 \\\\\n",
    "    0 & 0 & 1\n",
    "\\end{bmatrix}^{−1} * X^{T} * \\vec(y)$$\n",
    "\n",
    "## Regularized Logistic Regression\n",
    "$$ J(\\Theta)=−\\Big[\\frac{1}{m}\\sum_{i=1}^m(y^{i}\\log⁡(h_{\\theta}(x^{i}))+(1−y^{i})\\log⁡(1−h_{\\theta}(x^{i})))\\Big]+\\frac{\\lambda}{2m}\\sum_{j=1}^n\\theta_{j}^2$$\n",
    "$$\\theta_{0} ≔ \\theta_{0} − \\alpha\\frac{1}{m}\\sum_{i=1}^m(h_{\\theta}(x^{i}) − y^{i})x_{0}^i$$\n",
    "$$\\theta_{j} ≔ \\theta_{j}\\Big(1 − α\\frac{\\lambda}{m}\\Big) − \\alpha\\frac{1}{m}\\sum_{i=1}^m(h_{\\theta}(x^{i}) − y^{i})x_{j}^i; j \\neq 0$$\n"
   ]
  },
  {
   "cell_type": "code",
   "execution_count": null,
   "metadata": {
    "collapsed": true
   },
   "outputs": [],
   "source": []
  }
 ],
 "metadata": {
  "kernelspec": {
   "display_name": "Python 2",
   "language": "python",
   "name": "python2"
  },
  "language_info": {
   "codemirror_mode": {
    "name": "ipython",
    "version": 2
   },
   "file_extension": ".py",
   "mimetype": "text/x-python",
   "name": "python",
   "nbconvert_exporter": "python",
   "pygments_lexer": "ipython2",
   "version": "2.7.6"
  }
 },
 "nbformat": 4,
 "nbformat_minor": 0
}
