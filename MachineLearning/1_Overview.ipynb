{
 "cells": [
  {
   "cell_type": "markdown",
   "metadata": {},
   "source": [
    "# Overview"
   ]
  },
  {
   "cell_type": "markdown",
   "metadata": {},
   "source": [
    "Based on known data, let the machine learn and predict future data.\n",
    "\n",
    "## Types of Machine Learning\n",
    "* Supervised Learning:\n",
    "  * The machine is given known inputs along with known outputs\n",
    "  * The machine is then given a new input and asked to predict the output\n",
    "* Unsupervised Learning (clustering):\n",
    "  * The machine is given a set of known inputs with no tags / classifications, etc…\n",
    "  * The machine is asked to group / cluster the inputs into logical groups\n",
    "\t\t○ When the machine is given a new input, it should then add the new input to a known cluster or form a new cluster.\n",
    "\n",
    "## Types of Supervised Learning\n",
    "\t• Regression Problems:\n",
    "\t\t○ The output is a continuous value\n",
    "\t\t○ Eg: Cost of a house given some parameters, estimated stock price, estimated age of person given various factors, estimated final exam score given midterms, etc…\n",
    "\t\t○ Solved using gradient descent or normal equation\n",
    "\t• Classification Problems:\n",
    "\t\t○ The output is a discrete value\n",
    "\t\t○ Eg: If a person will get diabetes given various factors, if the received email is spam or not, etc…\n",
    "\t\t○ Solved using Logistic Regression\n",
    "\t\t○ Note that the output can be a set of discrete values and not just 2.\n"
   ]
  },
  {
   "cell_type": "code",
   "execution_count": null,
   "metadata": {
    "collapsed": true
   },
   "outputs": [],
   "source": []
  }
 ],
 "metadata": {
  "kernelspec": {
   "display_name": "Python 2",
   "language": "python",
   "name": "python2"
  },
  "language_info": {
   "codemirror_mode": {
    "name": "ipython",
    "version": 2
   },
   "file_extension": ".py",
   "mimetype": "text/x-python",
   "name": "python",
   "nbconvert_exporter": "python",
   "pygments_lexer": "ipython2",
   "version": "2.7.6"
  }
 },
 "nbformat": 4,
 "nbformat_minor": 0
}
