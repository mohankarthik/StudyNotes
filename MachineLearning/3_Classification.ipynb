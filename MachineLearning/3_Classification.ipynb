{
 "cells": [
  {
   "cell_type": "markdown",
   "metadata": {},
   "source": [
    "# Classification\n",
    "## Logistic Regression Model\n",
    "1. The hypothesis in this form is the sigmoid function or the Logistic function of the form\n",
    "$$h_{\\theta}(X)= \\frac{1}{1 + e^{(−\\theta^{T} * X)}}$$\n",
    "This looks like\n",
    "![Sigmoid Finction](img/Sigmoid.png)\n",
    "2. So interpret the output of h as the probability that y = 1 on the particular input x.\n",
    "  1. This means that if h(x) = 0.7, then there is a 70% chance that the output is 1.\n",
    "  2. Mathematically: h<sub>θ</sub>(x)=P(y=1│x;θ)\n",
    "  3. So if h(x) > 0.5, predict y = 1 and if h(x) <= 0.5, then predict y = 0.\n",
    "  4. We can notice that for θ<sup>T</sup>X < 0; h(x) < 0.5 and hence y = 0; \n",
    "3. The cost function cannot be the same as the sum of squares because\n",
    "  1. Having a non-linear term h(x) in the sum of square error causes J to become non-convex; i.e.: not having a single global minima. This will result in gradient descent not working any more.\n",
    "  2. Hence the modified cost function is\n",
    "  $$J(\\theta)=−frac{1}{m}\\sum_{i=1}^m(y^{i}\\log(h_{\\theta}(x^{i})) + (1 − y^{i})\\log⁡(1 − h_ (x^i )))   \n",
    "4. Gradient Descent update function for this modified cost function will be\n",
    "\t\tθ_j≔θ_j− α∑24_(i=1)^m▒〖(hθ (x^i )− y^i)x_j^i 〗\n",
    "\t\tWOW! This is the same as the linear regression update!! Screw you calculus!!\n",
    "\t\t\n",
    "*Note*: There are other algorithms, other than Gradient Descent that is faster but more complex. There are standard libraries in Octave that will implement these algorithms.\n",
    "* Conjugate Descent\n",
    "* BFGS\n",
    "* L-BFGS"
   ]
  },
  {
   "cell_type": "code",
   "execution_count": null,
   "metadata": {
    "collapsed": true
   },
   "outputs": [],
   "source": []
  }
 ],
 "metadata": {
  "kernelspec": {
   "display_name": "Python 2",
   "language": "python",
   "name": "python2"
  },
  "language_info": {
   "codemirror_mode": {
    "name": "ipython",
    "version": 2
   },
   "file_extension": ".py",
   "mimetype": "text/x-python",
   "name": "python",
   "nbconvert_exporter": "python",
   "pygments_lexer": "ipython2",
   "version": "2.7.6"
  }
 },
 "nbformat": 4,
 "nbformat_minor": 0
}
